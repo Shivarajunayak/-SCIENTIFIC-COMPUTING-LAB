{
  "nbformat": 4,
  "nbformat_minor": 0,
  "metadata": {
    "colab": {
      "name": "SCL PS-3 20PT29.ipynb",
      "provenance": [],
      "authorship_tag": "ABX9TyOYFk8ilR9ensMX0KXoYP3A",
      "include_colab_link": true
    },
    "kernelspec": {
      "name": "python3",
      "display_name": "Python 3"
    },
    "language_info": {
      "name": "python"
    }
  },
  "cells": [
    {
      "cell_type": "markdown",
      "metadata": {
        "id": "view-in-github",
        "colab_type": "text"
      },
      "source": [
        "<a href=\"https://colab.research.google.com/github/sandeepkhannavp/SCIENTIFIC-COMPUTING-LAB/blob/main/SCL_PS_3_20PT29.ipynb\" target=\"_parent\"><img src=\"https://colab.research.google.com/assets/colab-badge.svg\" alt=\"Open In Colab\"/></a>"
      ]
    },
    {
      "cell_type": "markdown",
      "source": [
        "**Q3) Write python programs to find a real root of the following equations in the given intervals using Bisection method, regula false method, newton raphson\n",
        "method and fixed point iteration method.**"
      ],
      "metadata": {
        "id": "jdt3uFVrB0Nd"
      }
    },
    {
      "cell_type": "code",
      "execution_count": 1,
      "metadata": {
        "id": "hU9XfeBMBubc"
      },
      "outputs": [],
      "source": [
        "from sympy import * \n"
      ]
    },
    {
      "cell_type": "code",
      "source": [
        "x = symbols('x') \n",
        "f = 3*x + cos(x) - x \n",
        "limit = [-1, 0] \n",
        "f2 = cos(x) - x * exp(x) \n",
        "limit2 = [0, 1] \n",
        "f3 = x**3 + 2 * x**2 + 10 * x - 20 \n",
        "limit3 = [1, 2] "
      ],
      "metadata": {
        "id": "Qq-1vMd_CChF"
      },
      "execution_count": 2,
      "outputs": []
    },
    {
      "cell_type": "markdown",
      "source": [
        "**BISECTION METHOD**"
      ],
      "metadata": {
        "id": "P4ySNKHxCJYk"
      }
    },
    {
      "cell_type": "code",
      "source": [
        "def bisection(f, limit): \n",
        "  a = limit[0] \n",
        "  b = limit[1] \n",
        "  t = 0.0 \n",
        "  t = float(a + b) / 2\n",
        "  while f.subs(x, t) > 0.00001 or f.subs(x, t) < -0.00001:\n",
        "       print(\"t =\", t, \"\\nf(t) =\", f.subs(x, t), end = \"\\n\\n\") \n",
        "       if f.subs(x, t) * f.subs(x, a) < 0: \n",
        "         b = t \n",
        "       elif f.subs(x, t) * f.subs(x, b) < 0: \n",
        "         a = t \n",
        "       else: \n",
        "         print(\"t NOT FOUND!\") \n",
        "         break \n",
        "       t = float(a + b) / 2 \n",
        "  print(\"SOLUTION\\nx = {x}\\nf(x) = {fx}\".format(x = t, fx = f.subs(x, t))) \n",
        "bisection(f, limit) \n"
      ],
      "metadata": {
        "colab": {
          "base_uri": "https://localhost:8080/"
        },
        "id": "OQcp-_RXCHSE",
        "outputId": "ebbc9b73-aea0-41d9-bc17-7ae035d4863b"
      },
      "execution_count": 10,
      "outputs": [
        {
          "output_type": "stream",
          "name": "stdout",
          "text": [
            "t = -0.5 \n",
            "f(t) = -0.122417438109627\n",
            "\n",
            "t = -0.25 \n",
            "f(t) = 0.468912421710645\n",
            "\n",
            "t = -0.375 \n",
            "f(t) = 0.180507621912314\n",
            "\n",
            "t = -0.4375 \n",
            "f(t) = 0.0308136834259364\n",
            "\n",
            "t = -0.46875 \n",
            "f(t) = -0.0453663006330056\n",
            "\n",
            "t = -0.453125 \n",
            "f(t) = -0.00716655943986155\n",
            "\n",
            "t = -0.4453125 \n",
            "f(t) = 0.0118511032379415\n",
            "\n",
            "t = -0.44921875 \n",
            "f(t) = 0.00234914434699940\n",
            "\n",
            "t = -0.451171875 \n",
            "f(t) = -0.00240699105382991\n",
            "\n",
            "t = -0.4501953125 \n",
            "f(t) = -2.84940273295176e-5\n",
            "\n",
            "t = -0.44970703125 \n",
            "f(t) = 0.00116043251667852\n",
            "\n",
            "t = -0.449951171875 \n",
            "f(t) = 0.000565996080722164\n",
            "\n",
            "t = -0.4500732421875 \n",
            "f(t) = 0.000268757735312652\n",
            "\n",
            "t = -0.45013427734375 \n",
            "f(t) = 0.000120133531096189\n",
            "\n",
            "t = -0.450164794921875 \n",
            "f(t) = 4.58201711532880e-5\n",
            "\n",
            "SOLUTION\n",
            "x = -0.4501800537109375\n",
            "f(x) = 0.00000866317672865158\n"
          ]
        }
      ]
    },
    {
      "cell_type": "markdown",
      "source": [
        "**Regula false method**"
      ],
      "metadata": {
        "id": "j_YfXy3EDVS9"
      }
    },
    {
      "cell_type": "code",
      "source": [
        "def regula_false(f, limit): \n",
        "  a = limit[0]\n",
        "  b = limit[1] \n",
        "  if f.subs(x, a) < 0: \n",
        "    pass \n",
        "  else: \n",
        "    temp = b \n",
        "    b = a \n",
        "    a = temp \n",
        "  h = float(abs(f.subs(x, a)) * (b - a)) / float(abs(f.subs(x, a)) + abs(f.subs(x, b))) \n",
        "  t = float(a + h) \n",
        "  while f.subs(x, t) > 0.00001 or f.subs(x, t) < -0.00001: \n",
        "    print(\"t =\", t, \"\\nf(t) =\", f.subs(x, t), end = \"\\n\\n\") \n",
        "    if f.subs(x, t) < 0: \n",
        "      a = t \n",
        "    else: \n",
        "      b = t \n",
        "    h = float(abs(f.subs(x, a)) * (b - a))/float(abs(f.subs(x, a)) + abs(f.subs(x, b))) \n",
        "    t = a + h \n",
        "  print(\"SOLUTION\\nx = {x}\\nf(x) = {fx}\".format(x = t, fx = f.subs(x, t))) \n",
        "regula_false(f, limit) \n"
      ],
      "metadata": {
        "colab": {
          "base_uri": "https://localhost:8080/"
        },
        "id": "sqf7ceH_COL0",
        "outputId": "5b1fa000-0b88-4ab6-ac01-06161cd1afdb"
      },
      "execution_count": 16,
      "outputs": [
        {
          "output_type": "stream",
          "name": "stdout",
          "text": [
            "t = -0.40655402588119505 \n",
            "f(t) = 0.105380920484264\n",
            "\n",
            "t = -0.44651232728937007 \n",
            "f(t) = 0.00893398567074255\n",
            "\n",
            "t = -0.44987930554874833 \n",
            "f(t) = 0.000740982623031461\n",
            "\n",
            "t = -0.45015842022959485 \n",
            "f(t) = 6.13432547491577e-5\n",
            "\n",
            "SOLUTION\n",
            "x = -0.45018152614723994\n",
            "f(x) = 0.00000507760539103508\n"
          ]
        }
      ]
    },
    {
      "cell_type": "markdown",
      "source": [
        "**Newton Raphson Method**\n"
      ],
      "metadata": {
        "id": "LoHuBcqmEGSO"
      }
    },
    {
      "cell_type": "code",
      "source": [
        "def newton_raphson(f, limit): \n",
        "  a = limit[0] \n",
        "  b = limit[1] \n",
        "  t = float(a + b) / 2 \n",
        "  while f.subs(x, t) > 0.001 or f.subs(x, t) < -0.001: \n",
        "    print(\"t =\", t, \"\\nf(t) =\", f.subs(x, t), end = \"\\n\\n\") \n",
        "    t = t - f.subs(x, t) / diff(f, x).subs(x, t) \n",
        "  print(\"SOLUTION\\nx = {x}\\nf(x) = {fx}\".format(x = t, fx = f.subs(x, t))) \n",
        "newton_raphson(f, limit)\n"
      ],
      "metadata": {
        "colab": {
          "base_uri": "https://localhost:8080/"
        },
        "id": "QIs4iKXhEF0v",
        "outputId": "6fd50b54-c5d0-473c-a913-9996e03bd826"
      },
      "execution_count": 17,
      "outputs": [
        {
          "output_type": "stream",
          "name": "stdout",
          "text": [
            "t = -0.5 \n",
            "f(t) = -0.122417438109627\n",
            "\n",
            "t = -0.450626693077243 \n",
            "f(t) = -0.00107905049572155\n",
            "\n",
            "SOLUTION\n",
            "x = -0.450183647577775\n",
            "f(x) = -8.83536128704066E-8\n"
          ]
        }
      ]
    },
    {
      "cell_type": "markdown",
      "source": [
        "**Fixed Point Iteration Method**"
      ],
      "metadata": {
        "id": "K9m7F23qEbdu"
      }
    },
    {
      "cell_type": "code",
      "source": [
        "def fixed_point_iteration(f, limit): \n",
        "  a = float(limit[0]) \n",
        "  b = float(limit[1]) \n",
        "  phi = -(f - f.coeff(x, 1) * x) / f.coeff(x, 1) \n",
        "  if diff(phi, x).subs(x, a) < 1 and diff(phi, x).subs(x, b) < 1: \n",
        "    pass \n",
        "  else: \n",
        "    print(\"Cannot use Fixed Point Iteration Method\") \n",
        "    return \n",
        "  t = float(a) \n",
        "  while f.subs(x, t) > 0.0001 or f.subs(x, t) < -0.0001: \n",
        "    print(\"t =\", t, \"\\nf(t) =\", f.subs(x, t), end = \"\\n\\n\") \n",
        "    t = phi.subs(x, t) \n",
        "  print(\"SOLUTION\\nx = {x}\\nf(x) = {fx}\".format(x = t, fx = f.subs(x, t))) \n",
        "fixed_point_iteration(f, limit) \n"
      ],
      "metadata": {
        "colab": {
          "base_uri": "https://localhost:8080/"
        },
        "id": "GUJT0mTLEWO-",
        "outputId": "6e82c6eb-d62a-4852-d3fd-5ec45b36fb37"
      },
      "execution_count": 19,
      "outputs": [
        {
          "output_type": "stream",
          "name": "stdout",
          "text": [
            "t = -1.0 \n",
            "f(t) = -1.45969769413186\n",
            "\n",
            "t = -0.270151152934070 \n",
            "f(t) = 0.423428262248902\n",
            "\n",
            "t = -0.481865284058521 \n",
            "f(t) = -0.0775985372264211\n",
            "\n",
            "t = -0.443066015445310 \n",
            "f(t) = 0.0173094448633714\n",
            "\n",
            "t = -0.451720737876996 \n",
            "f(t) = -0.00374416778576137\n",
            "\n",
            "t = -0.449848653984115 \n",
            "f(t) = 0.000815614372181472\n",
            "\n",
            "t = -0.450256461170206 \n",
            "f(t) = -0.000177401368642860\n",
            "\n",
            "SOLUTION\n",
            "x = -0.450167760485885\n",
            "f(x) = 0.0000385986810012007\n"
          ]
        }
      ]
    }
  ]
}