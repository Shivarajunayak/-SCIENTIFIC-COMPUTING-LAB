{
  "cells": [
    {
      "cell_type": "markdown",
      "metadata": {
        "id": "view-in-github",
        "colab_type": "text"
      },
      "source": [
        "<a href=\"https://colab.research.google.com/github/sandeepkhannavp/SCIENTIFIC-COMPUTING-LAB/blob/main/SCL_PS_2_20PT29.ipynb\" target=\"_parent\"><img src=\"https://colab.research.google.com/assets/colab-badge.svg\" alt=\"Open In Colab\"/></a>"
      ]
    },
    {
      "cell_type": "code",
      "execution_count": null,
      "metadata": {
        "id": "DHVY9JTag_fS"
      },
      "outputs": [],
      "source": [
        "import numpy as np\n",
        "from sympy import *\n",
        "import sympy as sp"
      ]
    },
    {
      "cell_type": "markdown",
      "metadata": {
        "id": "RzGrCJ4dp97l"
      },
      "source": [
        "**Q1** - Write a python program to find the eigen values and eigen vectors of\n",
        "the following using direct method?"
      ]
    },
    {
      "cell_type": "code",
      "execution_count": null,
      "metadata": {
        "id": "BHMvSIHLF4tB"
      },
      "outputs": [],
      "source": [
        "def eigenValues(matrix):\n",
        "  l = symbols('lambda')\n",
        "  order = len(matrix)\n",
        "  I = np.identity(order, dtype = int)\n",
        "  lI = I * l\n",
        "  expr = Matrix(lI - matrix).det()\n",
        "  eigValue = solve(expr)\n",
        "  return eigValue"
      ]
    },
    {
      "cell_type": "code",
      "execution_count": null,
      "metadata": {
        "id": "19qWVmzRjzGl"
      },
      "outputs": [],
      "source": [
        "def eigenVectors(matrix, eigValues):\n",
        "  eigVectors = []\n",
        "  order = len(matrix)\n",
        "  I = np.identity(order, dtype = int)\n",
        "  zeros = np.zeros((order, 1), dtype = int)\n",
        "\n",
        "  for e in eigValues:\n",
        "    m = (e * I) - matrix\n",
        "    m = Matrix(m)\n",
        "    aug = m.rref()[0]\n",
        "    vec, params = aug.gauss_jordan_solve(Matrix([0] * order))\n",
        "    taus_ones = {tau:1 for tau in params}\n",
        "    vec = vec.xreplace(taus_ones)\n",
        "    eigVectors.append(np.array(vec))\n",
        "\n",
        "  # for i in range(len(eigValues)):\n",
        "  #   lcm = 1\n",
        "  #   denominators = [Fraction(x).denominator() for x in eigVectors[i].flatten()]\n",
        "  #   for j in denominators:\n",
        "  #     lcm = lcm * j // gcd(lcm, j)\n",
        "  #   eigVectors[i] = eigVectors[i] * lcm\n",
        "\n",
        "  return eigVectors"
      ]
    },
    {
      "cell_type": "code",
      "execution_count": null,
      "metadata": {
        "id": "kl6oBHGTg9hI"
      },
      "outputs": [],
      "source": [
        "matrix = np.array([[-5, 2], [-7,4]])"
      ]
    },
    {
      "cell_type": "code",
      "execution_count": null,
      "metadata": {
        "colab": {
          "base_uri": "https://localhost:8080/"
        },
        "id": "Yk288ZtUhUtz",
        "outputId": "e4e87f52-df26-4a42-b488-ebaea9a4076e"
      },
      "outputs": [
        {
          "name": "stdout",
          "output_type": "stream",
          "text": [
            "[[1]\n",
            " [1]]\n",
            "[[2/7]\n",
            " [1]]\n"
          ]
        }
      ],
      "source": [
        "eig_val = eigenValues(matrix)\n",
        "eig_vect = eigenVectors(matrix,eig_val)\n",
        "for i in eig_vect:\n",
        "  print(i)"
      ]
    },
    {
      "cell_type": "markdown",
      "metadata": {
        "id": "hB8Fg3HCqL6u"
      },
      "source": [
        "**Q2** - Write a python program to diagonalize the following matrix."
      ]
    },
    {
      "cell_type": "code",
      "execution_count": null,
      "metadata": {
        "colab": {
          "base_uri": "https://localhost:8080/"
        },
        "id": "DMs8R2iSqKmV",
        "outputId": "e8a22d06-b44e-4476-f04f-bd50ac45bec2"
      },
      "outputs": [
        {
          "name": "stdout",
          "output_type": "stream",
          "text": [
            "After diagonalisation : \n",
            " [[-1.  0.]\n",
            " [ 0.  1.]]\n"
          ]
        }
      ],
      "source": [
        "mat1 = np.array([[1, 0], [6,-1]])\n",
        "eig_val = eigenValues(mat1)\n",
        "eig_vect = eigenVectors(mat1,eig_val)\n",
        "P = Matrix(eig_vect[0])\n",
        "for i in range(1,len(eig_vect)):\n",
        "  P = P.col_insert(i,Matrix(eig_vect[i]))\n",
        "P = np.array(P,dtype=float)\n",
        "PI = np.linalg.inv(P)\n",
        "res = PI @ mat1 @ P\n",
        "print(\"After diagonalisation : \\n\",res)"
      ]
    },
    {
      "cell_type": "markdown",
      "metadata": {
        "id": "PTW5ofCbFWtH"
      },
      "source": [
        "**Q3** - Write a python program to change the following quadratic form into\n",
        "canonical form"
      ]
    },
    {
      "cell_type": "code",
      "execution_count": null,
      "metadata": {
        "id": "VqO6htvDqwE9"
      },
      "outputs": [],
      "source": [
        "x = sp.var('x')\n",
        "y = sp.var('y')\n",
        "z = sp.var('z')\n",
        "\n",
        "def CalculateEigenVectors(A,l):\n",
        "    \n",
        "    length = A.shape[0]\n",
        "    I = sp.eye(length)\n",
        "    Z = I.multiply(l)\n",
        "    H = A-Z\n",
        "    J = H.nullspace()\n",
        "    return J\n",
        "    \n",
        "def CalculateEigenValues(A):\n",
        "\n",
        "    length = A.shape[0]\n",
        "    I = sp.eye(length)\n",
        "    Z = I.multiply(x)\n",
        "    H = A-Z\n",
        "    DET = H.det()\n",
        "    L = sp.solve(DET,x)\n",
        "    l = []\n",
        "    for i in L:\n",
        "        k = CalculateEigenVectors(A,i)\n",
        "\n",
        "        for j in range(len(k)):\n",
        "            l.append(k[j].tolist()) \n",
        "\n",
        "    M = np.empty((A.shape[0],len(l)))\n",
        "\n",
        "    for i in range(len(l)):\n",
        "        for j in range(A.shape[0]):\n",
        "            M[j][i] = l[i][j][0]\n",
        "\n",
        "    N = np.linalg.inv(M)\n",
        "    K = N.dot(A)\n",
        "    K = K.dot(M)\n",
        "    \n",
        "    print(\"\\nSymmetric matrix after Diagonalisation: \")\n",
        "    return (K.astype(int))\n",
        "    \n",
        "def main():    \n",
        "    \n",
        "    n = int(input(\"Enter no. of variables: \"))\n",
        "    expr = sp.sympify(input(\"Enter the Quadratic form: \"))\n",
        "    symmetric_matrix = [[] for  i in  range(n)]\n",
        "    \n",
        "    if n == 2:\n",
        "\n",
        "        symmetric_matrix[0].append(expr.coeff(x**2))\n",
        "        symmetric_matrix[0].append(int(0.5*(expr.coeff(x*y))))\n",
        "        symmetric_matrix[1].append(int(0.5*(expr.coeff(x*y))))\n",
        "        symmetric_matrix[1].append(expr.coeff(y**2))\n",
        "        print(\"\\nSymmetric matrix for given Quadratic form is: \",symmetric_matrix)\n",
        "        SYMMETRIC = sp.Matrix(symmetric_matrix)\n",
        "        diag = CalculateEigenValues(SYMMETRIC)\n",
        "        print(diag)\n",
        "        print(\"\\nCanonical form for given Quadratic form is: \")\n",
        "        print(\"{}*x**2+{}*y**2\".format(diag[0,0],diag[1,1]),end=\"\\n\\n\")\n",
        "    \n",
        "    elif n == 3:\n",
        "        \n",
        "        symmetric_matrix[0].append(expr.coeff(x**2))\n",
        "        symmetric_matrix[0].append(int(0.5*(expr.coeff(x*y))))\n",
        "        symmetric_matrix[0].append(int(0.5*(expr.coeff(x*z))))\n",
        "        symmetric_matrix[1].append(int(0.5*(expr.coeff(x*y))))\n",
        "        symmetric_matrix[1].append(expr.coeff(y**2))\n",
        "        symmetric_matrix[1].append(int(0.5*(expr.coeff(y*z))))\n",
        "        symmetric_matrix[2].append(int(0.5*(expr.coeff(x*z))))\n",
        "        symmetric_matrix[2].append(int(0.5*(expr.coeff(y*z))))\n",
        "        symmetric_matrix[2].append(expr.coeff(z**2))\n",
        "        \n",
        "        print(\"\\nSymmetric matrix for given Quadratic form is: \",symmetric_matrix)\n",
        "        \n",
        "        SYMMETRIC = sp.Matrix(symmetric_matrix)\n",
        "        CalculateEigenValues(SYMMETRIC)\n",
        "        diag = CalculateEigenValues(SYMMETRIC)\n",
        "        \n",
        "        print(diag)\n",
        "        print(\"\\nCanonical form for given Quadratic form is: \")\n",
        "        print(\"{}*x**2+{}*y**2+{}*z**2\".format(diag[0,0],diag[1,1],diag[2,2]),end=\"\\n\\n\")\n",
        "        \n",
        "main()\n"
      ]
    },
    {
      "cell_type": "markdown",
      "source": [
        " **Q4 - Check whether the following matrices are diagonalizable or not using\n",
        "python program**"
      ],
      "metadata": {
        "id": "TcrCvsJ7xC_f"
      }
    },
    {
      "cell_type": "code",
      "source": [
        "m = int(input(\"\\n\\tEnter order of matrix: \"))\n",
        "M = []\n",
        "\n",
        "print(\"\\tEnter matrix elements : \")\n",
        "for i in range(m):\n",
        "    temp = list()\n",
        "    for j in range(m):\n",
        "        temp.append(int(input()))\n",
        "    matrix.append(temp.copy())\n",
        "    temp.clear()\n",
        "print(\"Matrix : {} \".format(M))\n",
        "\n",
        "P, D = M.diagonalize()\n",
        "diagonisable = True\n",
        "d = list(D)\n",
        "for i in d:\n",
        "    if type(i).__name__ == \"Mul\" or type(i).__name__ == \"ImaginaryUnit\":\n",
        "        diagonisable = False\n",
        "if diagonisable:\n",
        "    print(\"The given matrix is diagonizable\")\n",
        "    print(\"Diagonal of your matrix : {}\".format(D))\n",
        "else:\n",
        "    print(\"The given matrix is not diagonizable\")\n",
        "\n"
      ],
      "metadata": {
        "id": "yAkhjkWuxN_v"
      },
      "execution_count": null,
      "outputs": []
    },
    {
      "cell_type": "markdown",
      "source": [
        " **Q5 - Write a python program for the following matrices to find the domi-\n",
        "nant eigen vector using power method and dominant eigen value using Rayleigh quotient?**"
      ],
      "metadata": {
        "id": "KY4AxMmqxSol"
      }
    },
    {
      "cell_type": "code",
      "source": [
        "n=int(input(\"ENTER THE ORDER OF THE MATRIX : \"))\n",
        "\n",
        "A=[]\n",
        "print(\"\\nENTER THE MATRIX :\")\n",
        "for i in range(n):\n",
        "    a=[]\n",
        "    print(\"\\ROW \",i+1,\":\")\n",
        "    for j in range(n):\n",
        "        val=int(input())\n",
        "        a.append(val)\n",
        "    A.append(a)\n",
        "    \n",
        "print(\"\\nENTER INITIAL EIGENVECTOR TO BE USED:  \")\n",
        "x=[0]*n\n",
        "for i in range(n):\n",
        "    print(\"x[\",i,\"]= \",end='')\n",
        "    x[i]=int(input())\n",
        "\n",
        "niter=int(input(\"ENTER THE NUMBER OF ITERATIONS TO BE PERFORMED: \"))\n",
        "\n",
        "for i in range(niter):\n",
        "    temp=np.matmul(A,x)\n",
        "    xnew=temp/temp[-1]\n",
        "    x=xnew\n",
        "\n",
        "x=[round(i,2) for i in x]\n",
        "print(\"\\nDominant eigen vector is:\\n\",x)\n",
        "\n",
        "rayleigh= np.matmul(np.matmul(A,x),np.transpose(x))/np.matmul(x,np.transpose(x))\n",
        "print(\"\\nDominant eigen value is \",round(rayleigh,2))"
      ],
      "metadata": {
        "id": "a6rvA9fCxbrJ"
      },
      "execution_count": null,
      "outputs": []
    },
    {
      "cell_type": "markdown",
      "source": [
        " **Q6 - Write a python program for the following matrices to find the smallest\n",
        "eigen vector using inverse power method and smallest eigen value using\n",
        "Rayleigh quotient?**"
      ],
      "metadata": {
        "id": "VErwXnQHxh2A"
      }
    },
    {
      "cell_type": "code",
      "source": [
        "n = int(input('Enter order of matrix: '))\n",
        "\n",
        "\n",
        "a = np.zeros((n,n))\n",
        "\n",
        "print('Enter Matrix Coefficients:')\n",
        "for i in range(n):\n",
        "    for j in range(n):\n",
        "        a[i][j] = float(input( 'a['+str(i)+']['+ str(j)+']='))\n",
        "\n",
        "a_inv = inv(a)\n",
        "x = np.zeros((n))\n",
        "\n",
        "\n",
        "print('Enter initial guess vector: ')\n",
        "for i in range(n):\n",
        "    x[i] = float(input( 'x['+str(i)+']='))\n",
        "\n",
        "tolerable_error = float(input('Enter tolerable error: '))\n",
        "\n",
        "\n",
        "max_iteration = int(input('Enter maximum number of steps: '))\n",
        "\n",
        "\n",
        "lambda_old = 1.0\n",
        "condition =  True\n",
        "step = 1\n",
        "\n",
        "print(\"inverse power method we use matrix inverse , reciprocates the eigen value\")\n",
        "\n",
        "while condition:\n",
        "    x = np.matmul(a_inv,x)\n",
        "    lambda_new = max(abs(x))\n",
        "    x = x/lambda_new\n",
        "    print('\\nSTEP %d' %(step))\n",
        "    print('----------')\n",
        "    print('Eigen Value = %0.4f' %(lambda_new))\n",
        "    print('Eigen Vector: ')\n",
        "    for i in range(n):\n",
        "        print('%0.3f\\t' % (x[i]))\n",
        " \n",
        "    step = step + 1\n",
        "    if step > max_iteration:\n",
        "        print('Not convergent in given maximum iteration!')\n",
        "        break\n",
        "    error = abs(lambda_new - lambda_old)\n",
        "    print('errror='+ str(error))\n",
        "    lambda_old = lambda_new\n",
        "    condition = error > tolerable_error\n"
      ],
      "metadata": {
        "id": "OflkKUS7xpdi"
      },
      "execution_count": null,
      "outputs": []
    }
  ],
  "metadata": {
    "colab": {
      "name": "SCL PS-2 20PT29.ipynb",
      "provenance": [],
      "collapsed_sections": [],
      "authorship_tag": "ABX9TyM0N82JxpEGrMsYWPyTbiOV",
      "include_colab_link": true
    },
    "kernelspec": {
      "display_name": "Python 3",
      "name": "python3"
    },
    "language_info": {
      "name": "python"
    }
  },
  "nbformat": 4,
  "nbformat_minor": 0
}