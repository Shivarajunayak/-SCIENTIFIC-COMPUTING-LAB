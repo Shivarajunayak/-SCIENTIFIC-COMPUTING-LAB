{
  "cells": [
    {
      "cell_type": "markdown",
      "metadata": {
        "id": "view-in-github",
        "colab_type": "text"
      },
      "source": [
        "<a href=\"https://colab.research.google.com/github/sandeepkhannavp/SCIENTIFIC-COMPUTING-LAB/blob/main/SCL_PS_2_20PT29.ipynb\" target=\"_parent\"><img src=\"https://colab.research.google.com/assets/colab-badge.svg\" alt=\"Open In Colab\"/></a>"
      ]
    },
    {
      "cell_type": "code",
      "execution_count": 1,
      "metadata": {
        "id": "DHVY9JTag_fS"
      },
      "outputs": [],
      "source": [
        "import numpy as np\n",
        "from sympy import *\n",
        "import sympy as sp"
      ]
    },
    {
      "cell_type": "markdown",
      "metadata": {
        "id": "RzGrCJ4dp97l"
      },
      "source": [
        "**Q1** - Write a python program to find the eigen values and eigen vectors of\n",
        "the following using direct method?"
      ]
    },
    {
      "cell_type": "code",
      "execution_count": 4,
      "metadata": {
        "id": "BHMvSIHLF4tB"
      },
      "outputs": [],
      "source": [
        "def eigenValues(matrix):\n",
        "  l = symbols('lambda')\n",
        "  order = len(matrix)\n",
        "  I = np.identity(order, dtype = int)\n",
        "  lI = I * l\n",
        "  expr = Matrix(lI - matrix).det()\n",
        "  eigValue = solve(expr)\n",
        "  return eigValue"
      ]
    },
    {
      "cell_type": "code",
      "execution_count": null,
      "metadata": {
        "id": "19qWVmzRjzGl"
      },
      "outputs": [],
      "source": [
        "def eigenVectors(matrix, eigValues):\n",
        "  eigVectors = []\n",
        "  order = len(matrix)\n",
        "  I = np.identity(order, dtype = int)\n",
        "  zeros = np.zeros((order, 1), dtype = int)\n",
        "\n",
        "  for e in eigValues:\n",
        "    m = (e * I) - matrix\n",
        "    m = Matrix(m)\n",
        "    aug = m.rref()[0]\n",
        "    vec, params = aug.gauss_jordan_solve(Matrix([0] * order))\n",
        "    taus_ones = {tau:1 for tau in params}\n",
        "    vec = vec.xreplace(taus_ones)\n",
        "    eigVectors.append(np.array(vec))\n",
        "\n",
        "  # for i in range(len(eigValues)):\n",
        "  #   lcm = 1\n",
        "  #   denominators = [Fraction(x).denominator() for x in eigVectors[i].flatten()]\n",
        "  #   for j in denominators:\n",
        "  #     lcm = lcm * j // gcd(lcm, j)\n",
        "  #   eigVectors[i] = eigVectors[i] * lcm\n",
        "\n",
        "  return eigVectors"
      ]
    },
    {
      "cell_type": "code",
      "execution_count": null,
      "metadata": {
        "id": "kl6oBHGTg9hI"
      },
      "outputs": [],
      "source": [
        "matrix = np.array([[-5, 2], [-7,4]])"
      ]
    },
    {
      "cell_type": "code",
      "execution_count": null,
      "metadata": {
        "colab": {
          "base_uri": "https://localhost:8080/"
        },
        "id": "Yk288ZtUhUtz",
        "outputId": "e4e87f52-df26-4a42-b488-ebaea9a4076e"
      },
      "outputs": [
        {
          "name": "stdout",
          "output_type": "stream",
          "text": [
            "[[1]\n",
            " [1]]\n",
            "[[2/7]\n",
            " [1]]\n"
          ]
        }
      ],
      "source": [
        "eig_val = eigenValues(matrix)\n",
        "eig_vect = eigenVectors(matrix,eig_val)\n",
        "for i in eig_vect:\n",
        "  print(i)"
      ]
    },
    {
      "cell_type": "markdown",
      "metadata": {
        "id": "hB8Fg3HCqL6u"
      },
      "source": [
        "**Q2** - Write a python program to diagonalize the following matrix."
      ]
    },
    {
      "cell_type": "code",
      "execution_count": null,
      "metadata": {
        "colab": {
          "base_uri": "https://localhost:8080/"
        },
        "id": "DMs8R2iSqKmV",
        "outputId": "e8a22d06-b44e-4476-f04f-bd50ac45bec2"
      },
      "outputs": [
        {
          "name": "stdout",
          "output_type": "stream",
          "text": [
            "After diagonalisation : \n",
            " [[-1.  0.]\n",
            " [ 0.  1.]]\n"
          ]
        }
      ],
      "source": [
        "mat1 = np.array([[1, 0], [6,-1]])\n",
        "eig_val = eigenValues(mat1)\n",
        "eig_vect = eigenVectors(mat1,eig_val)\n",
        "P = Matrix(eig_vect[0])\n",
        "for i in range(1,len(eig_vect)):\n",
        "  P = P.col_insert(i,Matrix(eig_vect[i]))\n",
        "P = np.array(P,dtype=float)\n",
        "PI = np.linalg.inv(P)\n",
        "res = PI @ mat1 @ P\n",
        "print(\"After diagonalisation : \\n\",res)"
      ]
    },
    {
      "cell_type": "markdown",
      "metadata": {
        "id": "PTW5ofCbFWtH"
      },
      "source": [
        "**Q3** - Write a python program to change the following quadratic form into\n",
        "canonical form"
      ]
    },
    {
      "cell_type": "code",
      "execution_count": null,
      "metadata": {
        "id": "VqO6htvDqwE9"
      },
      "outputs": [],
      "source": [
        "x = sp.var('x')\n",
        "y = sp.var('y')\n",
        "z = sp.var('z')\n",
        "\n",
        "def CalculateEigenVectors(A,l):\n",
        "    \n",
        "    length = A.shape[0]\n",
        "    I = sp.eye(length)\n",
        "    Z = I.multiply(l)\n",
        "    H = A-Z\n",
        "    J = H.nullspace()\n",
        "    return J\n",
        "    \n",
        "def CalculateEigenValues(A):\n",
        "\n",
        "    length = A.shape[0]\n",
        "    I = sp.eye(length)\n",
        "    Z = I.multiply(x)\n",
        "    H = A-Z\n",
        "    DET = H.det()\n",
        "    L = sp.solve(DET,x)\n",
        "    l = []\n",
        "    for i in L:\n",
        "        k = CalculateEigenVectors(A,i)\n",
        "\n",
        "        for j in range(len(k)):\n",
        "            l.append(k[j].tolist()) \n",
        "\n",
        "    M = np.empty((A.shape[0],len(l)))\n",
        "\n",
        "    for i in range(len(l)):\n",
        "        for j in range(A.shape[0]):\n",
        "            M[j][i] = l[i][j][0]\n",
        "\n",
        "    N = np.linalg.inv(M)\n",
        "    K = N.dot(A)\n",
        "    K = K.dot(M)\n",
        "    \n",
        "    print(\"\\nSymmetric matrix after Diagonalisation: \")\n",
        "    return (K.astype(int))\n",
        "    \n",
        "def main():    \n",
        "    \n",
        "    n = int(input(\"Enter no. of variables: \"))\n",
        "    expr = sp.sympify(input(\"Enter the Quadratic form: \"))\n",
        "    symmetric_matrix = [[] for  i in  range(n)]\n",
        "    \n",
        "    if n == 2:\n",
        "\n",
        "        symmetric_matrix[0].append(expr.coeff(x**2))\n",
        "        symmetric_matrix[0].append(int(0.5*(expr.coeff(x*y))))\n",
        "        symmetric_matrix[1].append(int(0.5*(expr.coeff(x*y))))\n",
        "        symmetric_matrix[1].append(expr.coeff(y**2))\n",
        "        print(\"\\nSymmetric matrix for given Quadratic form is: \",symmetric_matrix)\n",
        "        SYMMETRIC = sp.Matrix(symmetric_matrix)\n",
        "        diag = CalculateEigenValues(SYMMETRIC)\n",
        "        print(diag)\n",
        "        print(\"\\nCanonical form for given Quadratic form is: \")\n",
        "        print(\"{}*x**2+{}*y**2\".format(diag[0,0],diag[1,1]),end=\"\\n\\n\")\n",
        "    \n",
        "    elif n == 3:\n",
        "        \n",
        "        symmetric_matrix[0].append(expr.coeff(x**2))\n",
        "        symmetric_matrix[0].append(int(0.5*(expr.coeff(x*y))))\n",
        "        symmetric_matrix[0].append(int(0.5*(expr.coeff(x*z))))\n",
        "        symmetric_matrix[1].append(int(0.5*(expr.coeff(x*y))))\n",
        "        symmetric_matrix[1].append(expr.coeff(y**2))\n",
        "        symmetric_matrix[1].append(int(0.5*(expr.coeff(y*z))))\n",
        "        symmetric_matrix[2].append(int(0.5*(expr.coeff(x*z))))\n",
        "        symmetric_matrix[2].append(int(0.5*(expr.coeff(y*z))))\n",
        "        symmetric_matrix[2].append(expr.coeff(z**2))\n",
        "        \n",
        "        print(\"\\nSymmetric matrix for given Quadratic form is: \",symmetric_matrix)\n",
        "        \n",
        "        SYMMETRIC = sp.Matrix(symmetric_matrix)\n",
        "        CalculateEigenValues(SYMMETRIC)\n",
        "        diag = CalculateEigenValues(SYMMETRIC)\n",
        "        \n",
        "        print(diag)\n",
        "        print(\"\\nCanonical form for given Quadratic form is: \")\n",
        "        print(\"{}*x**2+{}*y**2+{}*z**2\".format(diag[0,0],diag[1,1],diag[2,2]),end=\"\\n\\n\")\n",
        "        \n",
        "main()\n"
      ]
    },
    {
      "cell_type": "markdown",
      "source": [
        " **Q4 - Check whether the following matrices are diagonalizable or not using\n",
        "python program**"
      ],
      "metadata": {
        "id": "TcrCvsJ7xC_f"
      }
    },
    {
      "cell_type": "code",
      "source": [
        "arr = np.zeros((3, 3, 3), dtype = 'int')\n",
        "\n",
        "arr[0] = [[-10, 11, -6],\n",
        "          [-15, 16, -10],\n",
        "          [-3, 3, -2]]\n",
        "\n",
        "arr[1] = [[3, -1, 0],\n",
        "          [-1, 2, -1],\n",
        "          [0, -1, 3]]\n",
        "\n",
        "arr[2] = [[1, -7, -1],\n",
        "          [0, 1, 0],\n",
        "          [0, 15, -2]]\n",
        "\n",
        "n = len(arr)\n",
        "for i in range(n):\n",
        "  if len(eigenValues(arr[i])) == n:\n",
        "    print(f'{i + 1}. Diagonalizable!')\n",
        "  else:\n",
        "    print(f'{i + 1}. Not Diagonalizable!')"
      ],
      "metadata": {
        "id": "yAkhjkWuxN_v",
        "colab": {
          "base_uri": "https://localhost:8080/"
        },
        "outputId": "83a8efb8-8240-4c75-d3d4-57581aced58f"
      },
      "execution_count": 7,
      "outputs": [
        {
          "output_type": "stream",
          "name": "stdout",
          "text": [
            "1. Not Diagonalizable!\n",
            "2. Diagonalizable!\n",
            "3. Not Diagonalizable!\n"
          ]
        }
      ]
    },
    {
      "cell_type": "markdown",
      "source": [
        " **Q5 - Write a python program for the following matrices to find the domi-\n",
        "nant eigen vector using power method and dominant eigen value using Rayleigh quotient?**"
      ],
      "metadata": {
        "id": "KY4AxMmqxSol"
      }
    },
    {
      "cell_type": "code",
      "source": [
        "arr = [[[2, 1], [0, -4]]]\n",
        "\n",
        "arr.append([[-5, 0, 0],\n",
        "            [3, 7, 0],\n",
        "            [4, -2, 3]])\n",
        "\n",
        "arr.append([[1, 2, -2],\n",
        "            [-2, 5, -2],\n",
        "            [-6, 6, -3]])\n",
        "\n",
        "arr = [np.array(i) for i in arr]\n",
        "for i in range(len(arr)):\n",
        "  n = len(arr[i])\n",
        "  eigenVector = np.array([[1]] * n)\n",
        "  for j in range(20):\n",
        "    eigenVector = np.matmul(arr[i], eigenVector)\n",
        "    eigenVector = np.round(eigenVector / max(eigenVector), 2)\n",
        "  eigenValue = round(sum(np.matmul(arr[i], eigenVector) * eigenVector)[0] / (sum(eigenVector * eigenVector)[0]), 2)\n",
        "  print(f'{i + 1}. Dominant Eigenvalue = {eigenValue}')\n",
        "  print(f'Dominant Eigenvector = \\n{eigenVector}', end = '\\n\\n')"
      ],
      "metadata": {
        "id": "a6rvA9fCxbrJ",
        "colab": {
          "base_uri": "https://localhost:8080/"
        },
        "outputId": "7a2f2286-4dfe-4c33-99b9-b8c3ef8e367a"
      },
      "execution_count": 2,
      "outputs": [
        {
          "output_type": "stream",
          "name": "stdout",
          "text": [
            "1. Dominant Eigenvalue = -4.01\n",
            "Dominant Eigenvector = \n",
            "[[-0.16]\n",
            " [ 1.  ]]\n",
            "\n",
            "2. Dominant Eigenvalue = 6.99\n",
            "Dominant Eigenvector = \n",
            "[[ 0.01]\n",
            " [ 1.  ]\n",
            " [-0.51]]\n",
            "\n",
            "3. Dominant Eigenvalue = -0.33\n",
            "Dominant Eigenvector = \n",
            "[[1.]\n",
            " [1.]\n",
            " [1.]]\n",
            "\n"
          ]
        }
      ]
    },
    {
      "cell_type": "markdown",
      "source": [
        " **Q6 - Write a python program for the following matrices to find the smallest\n",
        "eigen vector using inverse power method and smallest eigen value using\n",
        "Rayleigh quotient?**"
      ],
      "metadata": {
        "id": "VErwXnQHxh2A"
      }
    },
    {
      "cell_type": "code",
      "source": [
        "arr = np.zeros((3, 3, 3), dtype = 'int')\n",
        "\n",
        "arr[0] = [[2, 3, 1],\n",
        "          [0, -1, 2],\n",
        "          [0, 0, 3]]\n",
        "\n",
        "arr[1] = [[3, 0, 0],\n",
        "          [1, -1, 0],\n",
        "          [0, 2, 8]]\n",
        "\n",
        "arr[2] = [[1, 2, 0],\n",
        "          [0, -7, 1],\n",
        "          [0, 0, 0]]\n",
        "\n",
        "for i in range(len(arr)):\n",
        "  n = len(arr[i])\n",
        "  eigenVector = np.array([[1]] * n)\n",
        "  if np.linalg.det(arr[i]) != 0:\n",
        "    inv = np.linalg.inv(arr[i])\n",
        "  else:\n",
        "    continue\n",
        "  for j in range(20):\n",
        "    eigenVector = np.matmul(inv, eigenVector)\n",
        "    eigenVector = np.round(eigenVector / max(eigenVector), 2)\n",
        "  eigenValue = round(sum(np.matmul(inv, eigenVector) * eigenVector)[0] / (sum(eigenVector * eigenVector)[0]), 2)\n",
        "  print(f'{i + 1}. Smallest Eigenvalue = {eigenValue}')\n",
        "  print(f'Smallest Eigenvector = \\n{eigenVector}', end = '\\n\\n')"
      ],
      "metadata": {
        "id": "OflkKUS7xpdi",
        "colab": {
          "base_uri": "https://localhost:8080/"
        },
        "outputId": "c5582cf4-b052-46c2-cc9d-506da877c6e1"
      },
      "execution_count": 6,
      "outputs": [
        {
          "output_type": "stream",
          "name": "stdout",
          "text": [
            "1. Smallest Eigenvalue = -1.0\n",
            "Smallest Eigenvector = \n",
            "[[-1.]\n",
            " [ 1.]\n",
            " [ 0.]]\n",
            "\n",
            "2. Smallest Eigenvalue = -1.0\n",
            "Smallest Eigenvector = \n",
            "[[ 0.  ]\n",
            " [ 1.  ]\n",
            " [-0.22]]\n",
            "\n"
          ]
        }
      ]
    }
  ],
  "metadata": {
    "colab": {
      "name": "SCL PS-2 20PT29.ipynb",
      "provenance": [],
      "collapsed_sections": [],
      "authorship_tag": "ABX9TyPSCdkhTaWKDjZTi8DYwWs2",
      "include_colab_link": true
    },
    "kernelspec": {
      "display_name": "Python 3",
      "name": "python3"
    },
    "language_info": {
      "name": "python"
    }
  },
  "nbformat": 4,
  "nbformat_minor": 0
}