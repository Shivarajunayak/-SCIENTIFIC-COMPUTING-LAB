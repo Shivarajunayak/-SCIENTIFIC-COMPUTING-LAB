{
  "nbformat": 4,
  "nbformat_minor": 0,
  "metadata": {
    "colab": {
      "provenance": [],
      "authorship_tag": "ABX9TyPC2Tjqur9tYZYVz/q86rAj",
      "include_colab_link": true
    },
    "kernelspec": {
      "name": "python3",
      "display_name": "Python 3"
    },
    "language_info": {
      "name": "python"
    }
  },
  "cells": [
    {
      "cell_type": "markdown",
      "metadata": {
        "id": "view-in-github",
        "colab_type": "text"
      },
      "source": [
        "<a href=\"https://colab.research.google.com/github/sandeepkhannavp/SCIENTIFIC-COMPUTING-LAB/blob/main/PS_4_20PT29.ipynb\" target=\"_parent\"><img src=\"https://colab.research.google.com/assets/colab-badge.svg\" alt=\"Open In Colab\"/></a>"
      ]
    },
    {
      "cell_type": "code",
      "source": [
        "from sympy import *"
      ],
      "metadata": {
        "id": "8MljXS0kbLXk"
      },
      "execution_count": 3,
      "outputs": []
    },
    {
      "cell_type": "markdown",
      "source": [
        "**Q1) Write a python program to calculate interpolated value at given point\n",
        "using linear interpolation method. Also, print the corresponding linear\n",
        "polynomial.**"
      ],
      "metadata": {
        "id": "W4DkW_SeaqaE"
      }
    },
    {
      "cell_type": "code",
      "execution_count": 1,
      "metadata": {
        "colab": {
          "base_uri": "https://localhost:8080/"
        },
        "id": "RtXvE7SRaiXX",
        "outputId": "a0a4f55c-80bf-4207-a228-1f1ff5e1d8de"
      },
      "outputs": [
        {
          "output_type": "stream",
          "name": "stdout",
          "text": [
            "-5.0\n"
          ]
        }
      ],
      "source": [
        "x1 = -1\n",
        "y1 = -8\n",
        "x2 = 2\n",
        "y2 = 1\n",
        "x = 0\n",
        "y = y1 + (x - x1) * (y2 - y1) / (x2 - x1)\n",
        "print(y)"
      ]
    },
    {
      "cell_type": "markdown",
      "source": [
        "**Q2) Write a python program to calculate interpolated value at given point\n",
        "using quadratic interpolation method. Also, print the corresponding\n",
        "quadratic polynomial.**"
      ],
      "metadata": {
        "id": "dIxi0mLea1hs"
      }
    },
    {
      "cell_type": "code",
      "source": [
        "x = [0, 2, 3]\n",
        "y = [659, 705, 729]\n",
        "x0 = 2.75\n",
        "y0 = ((x0 - x[1]) * (x0 - x[2])) / ((x[0] - x[1]) * (x[0] - x[2])) * y[0] + ((x0 - x[0]) * (x0 - x[2])) / ((x[1] - x[0]) * (x[1] - x[2])) * y[1] + ((x0 - x[0]) * (x0 - x[1])) / ((x[2] - x[0]) * (x[2] - x[1])) * y[2]\n",
        "print(\"(\", x0, \", \", y0, \")\", sep = \"\")"
      ],
      "metadata": {
        "colab": {
          "base_uri": "https://localhost:8080/"
        },
        "id": "_e8RsHiPa0p8",
        "outputId": "589c5e0e-e4bb-4a21-a9d3-5a9cdda48ac8"
      },
      "execution_count": 2,
      "outputs": [
        {
          "output_type": "stream",
          "name": "stdout",
          "text": [
            "(2.75, 722.9375)\n"
          ]
        }
      ]
    },
    {
      "cell_type": "markdown",
      "source": [
        "**Q3) Write a python program to find the equation of the parabola passing\n",
        "through the points (0, 0), (1, 1) and (2, 20).**"
      ],
      "metadata": {
        "id": "Zc5_Z95ibDC8"
      }
    },
    {
      "cell_type": "code",
      "source": [
        "x, y, a, b, c = symbols('x y a b c')\n",
        "parabola = Eq(y - a * x ** 2 - b * x - c, 0)\n",
        "X = [0, 1, 2]\n",
        "Y= [0, 1, 20]\n",
        "eq1 = parabola.subs(x, X[0]).subs(y, Y[0])\n",
        "eq2 = parabola.subs(x, X[1]).subs(y, Y[1])\n",
        "eq3 = parabola.subs(x, X[2]).subs(y, Y[2])\n",
        "solution = list(linsolve([eq1, eq2, eq3], (a, b, c)))[0]\n",
        "parabola = parabola.subs(a, solution[0]).subs(b, solution[1]).subs(c, solution[2])\n",
        "print(parabola)"
      ],
      "metadata": {
        "colab": {
          "base_uri": "https://localhost:8080/"
        },
        "id": "Np5-0s94bCpc",
        "outputId": "40c6bfe9-fff7-4c94-99f4-2de1bad2a5a8"
      },
      "execution_count": 4,
      "outputs": [
        {
          "output_type": "stream",
          "name": "stdout",
          "text": [
            "Eq(-9*x**2 + 8*x + y, 0)\n"
          ]
        }
      ]
    },
    {
      "cell_type": "markdown",
      "source": [
        "**Q4) Write a python program to calculate interpolated value at given point\n",
        "using newton’s divided difference interpolation method. Also, print the\n",
        "divided difference table and the corresponding polynomial.**"
      ],
      "metadata": {
        "id": "dv87AB2CbUVk"
      }
    },
    {
      "cell_type": "code",
      "source": [
        "x = [654, 658, 659, 661]\n",
        "y = [2.8156, 2.8182, 2.8189, 2.8202]\n",
        "X = 656\n",
        "n = len(x)\n",
        "m = n\n",
        "tb = []\n",
        "tb.append(y)\n",
        "for i in range(n - 1):\n",
        "    values = []\n",
        "    for j in range(m - 1):\n",
        "        values.append((tb[i][j + 1] - tb[i][j]) / (x[j + i + 1] - x[j]))\n",
        "    tb.append(values)\n",
        "    m -= 1\n",
        "Y = 0\n",
        "for i in range(n):\n",
        "    temp = tb[i][0]\n",
        "    for j in range(i):\n",
        "        temp *= (X - x[j])\n",
        "    Y += temp\n",
        "print(\"Divided Difference table:\")\n",
        "print(tb)\n",
        "print(\"\\n(\", X, \", \", Y, \")\", sep = \"\")"
      ],
      "metadata": {
        "colab": {
          "base_uri": "https://localhost:8080/"
        },
        "id": "WHzzLVukbQtt",
        "outputId": "056078d4-20a9-4ed3-bc15-5c0571912dc3"
      },
      "execution_count": 6,
      "outputs": [
        {
          "output_type": "stream",
          "name": "stdout",
          "text": [
            "Divided Difference table:\n",
            "[[2.8156, 2.8182, 2.8189, 2.8202], [0.0006500000000000394, 0.000700000000000145, 0.0006499999999998174], [1.0000000000021104e-05, -1.6666666666775853e-05], [-3.8095238095424225e-06]]\n",
            "\n",
            "(656, 2.816814285714285)\n"
          ]
        }
      ]
    },
    {
      "cell_type": "markdown",
      "source": [
        "**Q5) - Write a python program to solve the following problem: From the\n",
        "given table of half-yearly premium for policies maturing at different\n",
        "ages, estimate the premium for policies maturing at age 46 and 63.**"
      ],
      "metadata": {
        "id": "_uuHLzqTbsg7"
      }
    },
    {
      "cell_type": "code",
      "source": [
        "x = [45, 50, 55, 60, 65]\n",
        "y = [114.84, 96.16, 83.32, 74.48, 68.48]\n",
        "\n",
        "def newtonInterpolate(x, y, X):\n",
        "    n = len(x)\n",
        "    m = n\n",
        "    table = []\n",
        "    table.append(y)\n",
        "    for i in range(n - 1):\n",
        "        values = []\n",
        "        for j in range(m - 1):\n",
        "            values.append((table[i][j + 1] - table[i][j]) / (x[j + i + 1] - x[j]))\n",
        "        table.append(values)\n",
        "        m -= 1\n",
        "    Y = 0\n",
        "    for i in range(n):\n",
        "        temp = table[i][0]\n",
        "        for j in range(i):\n",
        "            temp *= (X - x[j])\n",
        "        Y += temp\n",
        "    return Y\n",
        "print(\"The premium for policies maturing at age 46 is\", newtonInterpolate(x, y, 46))\n",
        "print(\"The premium for policies maturing at age 63 is\", newtonInterpolate(x, y, 63))"
      ],
      "metadata": {
        "colab": {
          "base_uri": "https://localhost:8080/"
        },
        "id": "SbQxIb23bgtc",
        "outputId": "af2731ba-df3f-4ee3-c7b6-a1a3d17f432c"
      },
      "execution_count": 7,
      "outputs": [
        {
          "output_type": "stream",
          "name": "stdout",
          "text": [
            "The premium for policies maturing at age 46 is 110.525632\n",
            "The premium for policies maturing at age 63 is 70.58515200000001\n"
          ]
        }
      ]
    },
    {
      "cell_type": "code",
      "source": [],
      "metadata": {
        "id": "f_K8i9nkcAbc"
      },
      "execution_count": null,
      "outputs": []
    }
  ]
}